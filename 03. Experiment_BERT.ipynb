{
 "cells": [
  {
   "cell_type": "code",
   "execution_count": 1,
   "metadata": {},
   "outputs": [
    {
     "name": "stdout",
     "output_type": "stream",
     "text": [
      "Tensorflow Version: 2.10.0\n"
     ]
    }
   ],
   "source": [
    "import numpy as np\n",
    "import pandas as pd\n",
    "import tensorflow as tf\n",
    "import tensorflow_hub as hub\n",
    "import tensorflow_text\n",
    "from official.nlp import optimization  # to create AdamW optimizer\n",
    "import matplotlib.pyplot as plt\n",
    "import seaborn as sns\n",
    "import random\n",
    "import time\n",
    "import os\n",
    "\n",
    "SEED = 0\n",
    "\n",
    "def set_seeds(seed=SEED):\n",
    "    os.environ['PYTHONHASHSEED'] = str(seed)\n",
    "    random.seed(seed)\n",
    "    tf.random.set_seed(seed)\n",
    "    np.random.seed(seed)\n",
    "\n",
    "def set_global_determinism(seed=SEED):\n",
    "    set_seeds(seed=seed)\n",
    "\n",
    "    os.environ['TF_DETERMINISTIC_OPS'] = '1'\n",
    "    os.environ['TF_CUDNN_DETERMINISTIC'] = '1'\n",
    "    \n",
    "    tf.config.threading.set_inter_op_parallelism_threads(1)\n",
    "    tf.config.threading.set_intra_op_parallelism_threads(1)\n",
    "\n",
    "# set_global_determinism(seed=SEED) # Setting seed for a reproducible code.\n",
    "print(f'Tensorflow Version: {tf.__version__}')"
   ]
  },
  {
   "cell_type": "code",
   "execution_count": 2,
   "metadata": {},
   "outputs": [
    {
     "name": "stdout",
     "output_type": "stream",
     "text": [
      "(230, 17920)\n",
      "(230,)\n"
     ]
    }
   ],
   "source": [
    "# Importing dataset\n",
    "dataset = np.load('char_normalized_flatten_dataset.npz')\n",
    "X = dataset['x']\n",
    "Y = dataset['y']\n",
    "print(X.shape)\n",
    "print(Y.shape)"
   ]
  },
  {
   "cell_type": "code",
   "execution_count": 3,
   "metadata": {},
   "outputs": [
    {
     "name": "stdout",
     "output_type": "stream",
     "text": [
      "\n",
      "X_train shape:(184, 17920) -> Train Labels: 184\n",
      "X_test shape:(46, 17920) -> Test Labels: 46\n"
     ]
    }
   ],
   "source": [
    "# Since this work is trying to create a model that is robust to every user we will be\n",
    "# Splitting the dataset with Scikit-Learn Train-Test split.\n",
    "# Further work can test if diferent splitting techniques enhance performance of the model\n",
    "# e.g split acording to subjects/labels\n",
    "\n",
    "from sklearn.model_selection import train_test_split\n",
    "X_train, X_test, y_train, y_test = train_test_split(X, Y, test_size = 0.2, random_state=SEED)\n",
    "\n",
    "print(f'''\n",
    "X_train shape:{X_train.shape} -> Train Labels: {y_train.shape[0]}\n",
    "X_test shape:{X_test.shape} -> Test Labels: {y_test.shape[0]}''')"
   ]
  },
  {
   "cell_type": "code",
   "execution_count": 4,
   "metadata": {},
   "outputs": [
    {
     "data": {
      "text/plain": [
       "'Train Label distribution'"
      ]
     },
     "metadata": {},
     "output_type": "display_data"
    },
    {
     "data": {
      "text/plain": [
       "label\n",
       "0.0    19\n",
       "1.0    17\n",
       "2.0    19\n",
       "3.0    19\n",
       "4.0    20\n",
       "5.0    18\n",
       "6.0    18\n",
       "7.0    19\n",
       "8.0    17\n",
       "9.0    18\n",
       "Name: label, dtype: int64"
      ]
     },
     "metadata": {},
     "output_type": "display_data"
    },
    {
     "data": {
      "text/plain": [
       "'Test Label distribution'"
      ]
     },
     "metadata": {},
     "output_type": "display_data"
    },
    {
     "data": {
      "text/plain": [
       "label\n",
       "0.0    4\n",
       "1.0    6\n",
       "2.0    4\n",
       "3.0    4\n",
       "4.0    3\n",
       "5.0    5\n",
       "6.0    5\n",
       "7.0    4\n",
       "8.0    6\n",
       "9.0    5\n",
       "Name: label, dtype: int64"
      ]
     },
     "metadata": {},
     "output_type": "display_data"
    }
   ],
   "source": [
    "# Veriffing label distribution of train and test samples\n",
    "display('Train Label distribution', pd.DataFrame(y_train, columns=['label']).groupby(['label'])['label'].count())\n",
    "display('Test Label distribution', pd.DataFrame(y_test, columns=['label']).groupby(['label'])['label'].count())"
   ]
  },
  {
   "cell_type": "code",
   "execution_count": 5,
   "metadata": {},
   "outputs": [],
   "source": [
    "# Creating our Transformer from a pre-trained model Transfer-Learn\n",
    "## Based on https://colab.research.google.com/github/tensorflow/text/blob/master/docs/tutorials/classify_text_with_bert.ipynb#scrollTo=JuxDkcvVIoev\n",
    "\n",
    "# TensorFlow models and layers in transformers accept two formats as input:\n",
    "# having all inputs as keyword arguments (like PyTorch models), or\n",
    "# having all inputs as a list, tuple or dict in the first positional argument.\n",
    "\n",
    "from keras.utils.np_utils import to_categorical   \n",
    "\n",
    "AUTOTUNE = tf.data.AUTOTUNE\n",
    "BATCH_SIZE = 10\n",
    "\n",
    "y_train = to_categorical(y_train, num_classes=10, dtype='int')\n",
    "y_test = to_categorical(y_test, num_classes=10, dtype='int')"
   ]
  },
  {
   "cell_type": "code",
   "execution_count": 6,
   "metadata": {},
   "outputs": [],
   "source": [
    "train_features = tf.data.Dataset.from_tensor_slices(X_train)\n",
    "train_labels = tf.data.Dataset.from_tensor_slices(y_train)\n",
    "train_labels = train_labels.map(lambda x: tf.reshape(x,[1,10]))\n",
    "train_ds = zip(train_features, train_labels)\n",
    "\n",
    "test_features = tf.data.Dataset.from_tensor_slices(X_test)\n",
    "test_labels = tf.data.Dataset.from_tensor_slices(y_test)\n",
    "test_labels = test_labels.map(lambda x: tf.reshape(x, [1,10]))\n",
    "test_ds = zip(test_features,  test_labels)"
   ]
  },
  {
   "cell_type": "code",
   "execution_count": 7,
   "metadata": {},
   "outputs": [
    {
     "data": {
      "text/plain": [
       "(<tf.Tensor: shape=(17920,), dtype=float64, numpy=\n",
       " array([ 1.77164999,  1.51757882, -0.06582103, ...,  1.62472118,\n",
       "        -0.16600878,  0.51626619])>,\n",
       " <tf.Tensor: shape=(1, 10), dtype=int32, numpy=array([[0, 0, 0, 0, 0, 0, 0, 0, 0, 1]])>)"
      ]
     },
     "execution_count": 7,
     "metadata": {},
     "output_type": "execute_result"
    }
   ],
   "source": [
    "## First pair of our dataset\n",
    "[x for x in test_ds][0]"
   ]
  },
  {
   "cell_type": "code",
   "execution_count": 8,
   "metadata": {},
   "outputs": [],
   "source": [
    "# Selecting a pre-trained model from Tensorflow Hub\n",
    "\n",
    "tfhub_handle_encoder = 'https://tfhub.dev/tensorflow/bert_multi_cased_L-12_H-768_A-12/3'\n",
    "tfhub_handle_preprocess = 'https://tfhub.dev/tensorflow/bert_multi_cased_preprocess/3'"
   ]
  },
  {
   "cell_type": "code",
   "execution_count": 9,
   "metadata": {},
   "outputs": [
    {
     "name": "stdout",
     "output_type": "stream",
     "text": [
      "WARNING:tensorflow:Please fix your imports. Module tensorflow.python.training.tracking.data_structures has been moved to tensorflow.python.trackable.data_structures. The old module will be deleted in version 2.11.\n"
     ]
    }
   ],
   "source": [
    "# Create a preprocess layer\n",
    "\n",
    "bert_preprocess_model = hub.KerasLayer(tfhub_handle_preprocess)"
   ]
  },
  {
   "cell_type": "code",
   "execution_count": 14,
   "metadata": {},
   "outputs": [
    {
     "name": "stdout",
     "output_type": "stream",
     "text": [
      "Model: \"model_1\"\n",
      "__________________________________________________________________________________________________\n",
      " Layer (type)                   Output Shape         Param #     Connected to                     \n",
      "==================================================================================================\n",
      " EEG (InputLayer)               [(None,)]            0           []                               \n",
      "                                                                                                  \n",
      " Preprocessing (KerasLayer)     {'input_word_ids':   0           ['EEG[0][0]']                    \n",
      "                                (None, 128),                                                      \n",
      "                                 'input_mask': (Non                                               \n",
      "                                e, 128),                                                          \n",
      "                                 'input_type_ids':                                                \n",
      "                                (None, 128)}                                                      \n",
      "                                                                                                  \n",
      " BERT_encoder (KerasLayer)      {'sequence_output':  177853441   ['Preprocessing[0][0]',          \n",
      "                                 (None, 128, 768),                'Preprocessing[0][1]',          \n",
      "                                 'pooled_output': (               'Preprocessing[0][2]']          \n",
      "                                None, 768),                                                       \n",
      "                                 'default': (None,                                                \n",
      "                                768),                                                             \n",
      "                                 'encoder_outputs':                                               \n",
      "                                 [(None, 128, 768),                                               \n",
      "                                 (None, 128, 768),                                                \n",
      "                                 (None, 128, 768),                                                \n",
      "                                 (None, 128, 768),                                                \n",
      "                                 (None, 128, 768),                                                \n",
      "                                 (None, 128, 768),                                                \n",
      "                                 (None, 128, 768),                                                \n",
      "                                 (None, 128, 768),                                                \n",
      "                                 (None, 128, 768),                                                \n",
      "                                 (None, 128, 768),                                                \n",
      "                                 (None, 128, 768),                                                \n",
      "                                 (None, 128, 768)]}                                               \n",
      "                                                                                                  \n",
      " dropout_1 (Dropout)            (None, 768)          0           ['BERT_encoder[0][13]']          \n",
      "                                                                                                  \n",
      " classifier (Dense)             (None, 10)           7690        ['dropout_1[0][0]']              \n",
      "                                                                                                  \n",
      "==================================================================================================\n",
      "Total params: 177,861,131\n",
      "Trainable params: 177,861,130\n",
      "Non-trainable params: 1\n",
      "__________________________________________________________________________________________________\n"
     ]
    }
   ],
   "source": [
    "# Building our classifier\n",
    "\n",
    "def build_classifier_model():\n",
    "  EEG_input = tf.keras.layers.Input(shape=(), dtype=tf.string, name='EEG')\n",
    "  preprocessing_layer = hub.KerasLayer(tfhub_handle_preprocess, name='Preprocessing')\n",
    "  encoder_inputs = preprocessing_layer(EEG_input)\n",
    "  encoder = hub.KerasLayer(tfhub_handle_encoder, trainable=True, name='BERT_encoder')\n",
    "  outputs = encoder(encoder_inputs)\n",
    "  net = outputs['pooled_output']\n",
    "  net = tf.keras.layers.Dropout(0.1)(net)\n",
    "  net = tf.keras.layers.Dense(10, activation='softmax', name='classifier')(net)\n",
    "  return tf.keras.Model(EEG_input, net)\n",
    "\n",
    "classifier_model = build_classifier_model()\n",
    "classifier_model.summary()"
   ]
  },
  {
   "cell_type": "code",
   "execution_count": 20,
   "metadata": {},
   "outputs": [
    {
     "data": {
      "image/png": "[encoded data removed]",
      "text/plain": [
       "<IPython.core.display.Image object>"
      ]
     },
     "execution_count": 20,
     "metadata": {},
     "output_type": "execute_result"
    }
   ],
   "source": [
    "tf.keras.utils.plot_model(classifier_model, to_file = 'BERT_model.png')"
   ]
  },
  {
   "cell_type": "code",
   "execution_count": null,
   "metadata": {},
   "outputs": [],
   "source": [
    "EPOCHS = 5\n",
    "steps_per_epoch = 184\n",
    "num_train_steps = steps_per_epoch * EPOCHS\n",
    "num_warmup_steps = int(0.1*num_train_steps)\n",
    "\n",
    "init_lr = 3e-5\n",
    "optimizer = optimization.create_optimizer(init_lr=init_lr,\n",
    "                                          num_train_steps=num_train_steps,\n",
    "                                          num_warmup_steps=num_warmup_steps,\n",
    "                                          optimizer_type='adamw')"
   ]
  },
  {
   "cell_type": "code",
   "execution_count": null,
   "metadata": {},
   "outputs": [],
   "source": [
    "loss = tf.keras.losses.CategoricalCrossentropy()\n",
    "metrics = tf.metrics.Accuracy()"
   ]
  },
  {
   "cell_type": "code",
   "execution_count": null,
   "metadata": {},
   "outputs": [],
   "source": [
    "classifier_model.compile(optimizer=optimizer,\n",
    "                         loss=loss,\n",
    "                         metrics=metrics)"
   ]
  },
  {
   "cell_type": "code",
   "execution_count": null,
   "metadata": {},
   "outputs": [],
   "source": [
    "print(f'Training model with BERT_Multi_Cased_L-12_H-768_A-12')\n",
    "history = classifier_model.fit(x = train_ds,\n",
    "                               validation_data = test_ds,\n",
    "                               epochs= EPOCHS)"
   ]
  }
 ],
 "metadata": {
  "kernelspec": {
   "display_name": "Python 3.8.13 ('tf_py')",
   "language": "python",
   "name": "python3"
  },
  "language_info": {
   "codemirror_mode": {
    "name": "ipython",
    "version": 3
   },
   "file_extension": ".py",
   "mimetype": "text/x-python",
   "name": "python",
   "nbconvert_exporter": "python",
   "pygments_lexer": "ipython3",
   "version": "3.8.13"
  },
  "orig_nbformat": 4,
  "vscode": {
   "interpreter": {
    "hash": "fd574941279fb6eb59fbc8ec4ea27572da296acbca746f1b5136a7c1b4e2e904"
   }
  }
 },
 "nbformat": 4,
 "nbformat_minor": 2
}
