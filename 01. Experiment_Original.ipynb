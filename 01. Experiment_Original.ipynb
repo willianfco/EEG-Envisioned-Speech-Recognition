{
 "cells": [
  {
   "cell_type": "code",
   "execution_count": 1,
   "metadata": {},
   "outputs": [
    {
     "name": "stdout",
     "output_type": "stream",
     "text": [
      "Tensorflow Version: 2.10.0\n"
     ]
    }
   ],
   "source": [
    "import numpy as np\n",
    "import pandas as pd\n",
    "import tensorflow as tf\n",
    "from sklearn.model_selection import train_test_split\n",
    "from sklearn.preprocessing import StandardScaler\n",
    "import matplotlib.pyplot as plt\n",
    "import seaborn as sns\n",
    "import random\n",
    "import time\n",
    "import os\n",
    "import mne\n",
    "from sklearn.metrics import accuracy_score,confusion_matrix\n",
    "from tensorflow.keras.models import Sequential, Model\n",
    "from tensorflow.keras.utils import plot_model, to_categorical\n",
    "from tensorflow.keras.layers import Dense, Activation, Conv1D, MaxPooling1D, GlobalAveragePooling1D, Flatten, Dropout, BatchNormalization, Input,UpSampling1D\n",
    "from tensorflow.keras.layers import concatenate, Lambda, Conv2D, MaxPooling2D, GlobalAveragePooling2D,LSTM\n",
    "from tensorflow.keras import backend as K\n",
    "from tensorflow.keras.callbacks import EarlyStopping\n",
    "\n",
    "\n",
    "## The original experiment didn't set global determinism, this way, we couldn't match its results.\n",
    "## For comparison with other tunnings, we will be setting global determinism with seed = 0\n",
    "\n",
    "SEED = 0\n",
    "\n",
    "def set_seeds(seed=SEED):\n",
    "    os.environ['PYTHONHASHSEED'] = str(seed)\n",
    "    random.seed(seed)\n",
    "    tf.random.set_seed(seed)\n",
    "    np.random.seed(seed)\n",
    "\n",
    "def set_global_determinism(seed=SEED):\n",
    "    set_seeds(seed=seed)\n",
    "\n",
    "    os.environ['TF_DETERMINISTIC_OPS'] = '1'\n",
    "    os.environ['TF_CUDNN_DETERMINISTIC'] = '1'\n",
    "    \n",
    "    tf.config.threading.set_inter_op_parallelism_threads(1)\n",
    "    tf.config.threading.set_intra_op_parallelism_threads(1)\n",
    "\n",
    "set_global_determinism(seed=SEED) # Setting seed for a reproducible code.\n",
    "print(f'Tensorflow Version: {tf.__version__}')\n",
    "mne.set_log_level('WARNING') # Setting outputs to something less verbose."
   ]
  },
  {
   "cell_type": "code",
   "execution_count": 2,
   "metadata": {},
   "outputs": [],
   "source": [
    "# Extracting raw data from EEG exams\n",
    "folder = 'Char/'\n",
    "\n",
    "X = np.zeros((230,14,1280))\n",
    "Y = np.zeros((230,))\n",
    "ctr = 0\n",
    "\n",
    "for file in os.listdir(folder):\n",
    "    data = mne.io.read_raw_edf(os.path.join(folder,file))\n",
    "    raw_data = data[2:16][0]*1000\n",
    "    raw_data = raw_data[:,0:1280]\n",
    "    \n",
    "    _,cls = file.split('_')\n",
    "    if cls[0]=='A':\n",
    "        Y[ctr] = 0\n",
    "    elif cls[0]=='C':\n",
    "        Y[ctr] = 1 \n",
    "    elif cls[0]=='F':\n",
    "        Y[ctr] = 2\n",
    "    elif cls[0]=='H':\n",
    "        Y[ctr] = 3\n",
    "    elif cls[0]=='J':\n",
    "        Y[ctr] = 4\n",
    "    elif cls[0]=='M':\n",
    "        Y[ctr] = 5\n",
    "    elif cls[0]=='P':\n",
    "        Y[ctr] = 6\n",
    "    elif cls[0]=='S':\n",
    "        Y[ctr] = 7\n",
    "    elif cls[0]=='T':\n",
    "        Y[ctr] = 8\n",
    "    elif cls[0]=='Y':\n",
    "        Y[ctr] = 9\n",
    "    X[ctr,:,:] = raw_data\n",
    "    ctr = ctr+1"
   ]
  },
  {
   "cell_type": "code",
   "execution_count": 3,
   "metadata": {},
   "outputs": [],
   "source": [
    "# Lets build a dictionary to mantain our char labels in memory. \n",
    "LABEL_STR = {0.0: 'A', 1.0: 'C', 2.0: 'F', 3.0: 'H', 4.0: 'J',\n",
    "             5.0: 'M', 6.0: 'P', 7.0: 'S', 8.0: 'T', 9.0: 'Y'}"
   ]
  },
  {
   "cell_type": "code",
   "execution_count": 4,
   "metadata": {},
   "outputs": [],
   "source": [
    "# Sampling data into 250ms duration\n",
    "X_new = np.zeros((36110,32,14))\n",
    "Y_new = np.zeros((36110,))\n",
    "npt = 32\n",
    "stride = 8\n",
    "ctr = 0\n",
    "for i in range(0,230):\n",
    "    y = Y[i]\n",
    "    a= X[i,:,:]\n",
    "    a = a.transpose()\n",
    "    val = 0\n",
    "    while val<=(len(a)-npt):\n",
    "        x = a[val:val+npt,:]\n",
    "        X_new[ctr,:,:] = x\n",
    "        Y_new[ctr] = y\n",
    "        val = val+stride\n",
    "        ctr = ctr+1"
   ]
  },
  {
   "cell_type": "code",
   "execution_count": 5,
   "metadata": {},
   "outputs": [
    {
     "name": "stdout",
     "output_type": "stream",
     "text": [
      "\n",
      "X_train shape:(28888, 32, 14) -> Train Labels: 28888\n",
      "X_test shape:(7222, 32, 14) -> Test Labels: 7222\n"
     ]
    }
   ],
   "source": [
    "# Creating Datasets\n",
    "X_train, X_test, y_train, y_test = train_test_split(X_new, Y_new, test_size=0.2, random_state=SEED)\n",
    "\n",
    "print(f'''\n",
    "X_train shape:{X_train.shape} -> Train Labels: {y_train.shape[0]}\n",
    "X_test shape:{X_test.shape} -> Test Labels: {y_test.shape[0]}''')"
   ]
  },
  {
   "cell_type": "code",
   "execution_count": 6,
   "metadata": {},
   "outputs": [
    {
     "name": "stdout",
     "output_type": "stream",
     "text": [
      "Model: \"model\"\n",
      "_________________________________________________________________\n",
      " Layer (type)                Output Shape              Param #   \n",
      "=================================================================\n",
      " input_1 (InputLayer)        [(None, 32, 14)]          0         \n",
      "                                                                 \n",
      " batch_normalization (BatchN  (None, 32, 14)           56        \n",
      " ormalization)                                                   \n",
      "                                                                 \n",
      " conv1d (Conv1D)             (None, 32, 128)           18048     \n",
      "                                                                 \n",
      " batch_normalization_1 (Batc  (None, 32, 128)          512       \n",
      " hNormalization)                                                 \n",
      "                                                                 \n",
      " max_pooling1d (MaxPooling1D  (None, 16, 128)          0         \n",
      " )                                                               \n",
      "                                                                 \n",
      " lstm (LSTM)                 (None, 256)               394240    \n",
      "                                                                 \n",
      " batch_normalization_2 (Batc  (None, 256)              1024      \n",
      " hNormalization)                                                 \n",
      "                                                                 \n",
      " dense (Dense)               (None, 128)               32896     \n",
      "                                                                 \n",
      " dropout (Dropout)           (None, 128)               0         \n",
      "                                                                 \n",
      " dense_1 (Dense)             (None, 10)                1290      \n",
      "                                                                 \n",
      "=================================================================\n",
      "Total params: 448,066\n",
      "Trainable params: 447,270\n",
      "Non-trainable params: 796\n",
      "_________________________________________________________________\n"
     ]
    }
   ],
   "source": [
    "# Creating architecture\n",
    "\n",
    "i1 = Input(shape=(32,14))\n",
    "x1 = BatchNormalization()(i1)\n",
    "x1 = Conv1D(128, kernel_size=10, strides=1, activation='relu', padding='same')(x1)\n",
    "x1 = BatchNormalization()(x1)\n",
    "x1 = MaxPooling1D(2)(x1)\n",
    "x1 = LSTM(256,activation='tanh')(x1)\n",
    "x1 = BatchNormalization()(x1)\n",
    "x1 = Dense(128, activation='relu')(x1)\n",
    "x1 = Dropout(0.5)(x1)\n",
    "output = Dense(10, activation='softmax')(x1)\n",
    "\n",
    "model = Model(inputs=i1, outputs=output) # summarize layers\n",
    "\n",
    "model.summary()"
   ]
  },
  {
   "cell_type": "code",
   "execution_count": 7,
   "metadata": {},
   "outputs": [
    {
     "name": "stdout",
     "output_type": "stream",
     "text": [
      "Epoch 1/500\n",
      "181/181 [==============================] - 5s 11ms/step - loss: 2.3942 - accuracy: 0.1413 - val_loss: 2.3119 - val_accuracy: 0.1054\n",
      "Epoch 2/500\n",
      "181/181 [==============================] - 1s 8ms/step - loss: 2.2229 - accuracy: 0.1750 - val_loss: 2.3195 - val_accuracy: 0.1101\n",
      "Epoch 3/500\n",
      "181/181 [==============================] - 1s 8ms/step - loss: 2.1423 - accuracy: 0.2032 - val_loss: 2.2428 - val_accuracy: 0.1518\n",
      "Epoch 4/500\n",
      "181/181 [==============================] - 2s 8ms/step - loss: 2.0716 - accuracy: 0.2402 - val_loss: 2.0937 - val_accuracy: 0.2226\n",
      "Epoch 5/500\n",
      "181/181 [==============================] - 2s 8ms/step - loss: 2.0027 - accuracy: 0.2682 - val_loss: 1.9646 - val_accuracy: 0.2856\n",
      "Epoch 6/500\n",
      "181/181 [==============================] - 2s 8ms/step - loss: 1.9259 - accuracy: 0.3008 - val_loss: 1.8714 - val_accuracy: 0.3273\n",
      "Epoch 7/500\n",
      "181/181 [==============================] - 2s 8ms/step - loss: 1.8554 - accuracy: 0.3303 - val_loss: 1.7776 - val_accuracy: 0.3692\n",
      "Epoch 8/500\n",
      "181/181 [==============================] - 2s 9ms/step - loss: 1.7802 - accuracy: 0.3611 - val_loss: 1.6885 - val_accuracy: 0.4045\n",
      "Epoch 9/500\n",
      "181/181 [==============================] - 1s 8ms/step - loss: 1.7197 - accuracy: 0.3839 - val_loss: 1.6359 - val_accuracy: 0.4154\n",
      "Epoch 10/500\n",
      "181/181 [==============================] - 2s 8ms/step - loss: 1.6489 - accuracy: 0.4113 - val_loss: 1.5409 - val_accuracy: 0.4425\n",
      "Epoch 11/500\n",
      "181/181 [==============================] - 1s 8ms/step - loss: 1.5782 - accuracy: 0.4361 - val_loss: 1.4968 - val_accuracy: 0.4720\n",
      "Epoch 12/500\n",
      "181/181 [==============================] - 2s 8ms/step - loss: 1.5058 - accuracy: 0.4655 - val_loss: 1.4408 - val_accuracy: 0.4862\n",
      "Epoch 13/500\n",
      "181/181 [==============================] - 2s 9ms/step - loss: 1.4372 - accuracy: 0.4956 - val_loss: 1.3611 - val_accuracy: 0.5211\n",
      "Epoch 14/500\n",
      "181/181 [==============================] - 2s 8ms/step - loss: 1.3712 - accuracy: 0.5196 - val_loss: 1.3419 - val_accuracy: 0.5325\n",
      "Epoch 15/500\n",
      "181/181 [==============================] - 1s 8ms/step - loss: 1.3224 - accuracy: 0.5355 - val_loss: 1.2315 - val_accuracy: 0.5672\n",
      "Epoch 16/500\n",
      "181/181 [==============================] - 1s 8ms/step - loss: 1.2441 - accuracy: 0.5685 - val_loss: 1.1521 - val_accuracy: 0.5942\n",
      "Epoch 17/500\n",
      "181/181 [==============================] - 1s 8ms/step - loss: 1.2011 - accuracy: 0.5826 - val_loss: 1.1386 - val_accuracy: 0.6051\n",
      "Epoch 18/500\n",
      "181/181 [==============================] - 1s 8ms/step - loss: 1.1464 - accuracy: 0.6018 - val_loss: 1.0743 - val_accuracy: 0.6232\n",
      "Epoch 19/500\n",
      "181/181 [==============================] - 1s 8ms/step - loss: 1.0861 - accuracy: 0.6213 - val_loss: 1.0681 - val_accuracy: 0.6265\n",
      "Epoch 20/500\n",
      "181/181 [==============================] - 1s 8ms/step - loss: 1.0372 - accuracy: 0.6408 - val_loss: 1.0293 - val_accuracy: 0.6476\n",
      "Epoch 21/500\n",
      "181/181 [==============================] - 1s 8ms/step - loss: 1.0031 - accuracy: 0.6564 - val_loss: 1.0035 - val_accuracy: 0.6561\n",
      "Epoch 22/500\n",
      "181/181 [==============================] - 1s 8ms/step - loss: 0.9540 - accuracy: 0.6704 - val_loss: 0.9476 - val_accuracy: 0.6771\n",
      "Epoch 23/500\n",
      "181/181 [==============================] - 1s 8ms/step - loss: 0.9228 - accuracy: 0.6836 - val_loss: 0.9512 - val_accuracy: 0.6715\n",
      "Epoch 24/500\n",
      "181/181 [==============================] - 1s 8ms/step - loss: 0.8744 - accuracy: 0.7021 - val_loss: 0.8845 - val_accuracy: 0.7016\n",
      "Epoch 25/500\n",
      "181/181 [==============================] - 1s 8ms/step - loss: 0.8646 - accuracy: 0.7061 - val_loss: 0.8474 - val_accuracy: 0.7127\n",
      "Epoch 26/500\n",
      "181/181 [==============================] - 1s 8ms/step - loss: 0.8150 - accuracy: 0.7198 - val_loss: 0.8692 - val_accuracy: 0.6976\n",
      "Epoch 27/500\n",
      "181/181 [==============================] - 1s 8ms/step - loss: 0.7907 - accuracy: 0.7279 - val_loss: 0.8189 - val_accuracy: 0.7220\n",
      "Epoch 28/500\n",
      "181/181 [==============================] - 1s 8ms/step - loss: 0.7585 - accuracy: 0.7450 - val_loss: 0.8346 - val_accuracy: 0.7203\n",
      "Epoch 29/500\n",
      "181/181 [==============================] - 1s 8ms/step - loss: 0.7114 - accuracy: 0.7557 - val_loss: 0.7749 - val_accuracy: 0.7414\n",
      "Epoch 30/500\n",
      "181/181 [==============================] - 1s 8ms/step - loss: 0.6989 - accuracy: 0.7666 - val_loss: 0.7897 - val_accuracy: 0.7392\n",
      "Epoch 31/500\n",
      "181/181 [==============================] - 1s 8ms/step - loss: 0.6601 - accuracy: 0.7792 - val_loss: 0.7793 - val_accuracy: 0.7378\n",
      "Epoch 32/500\n",
      "181/181 [==============================] - 1s 8ms/step - loss: 0.6529 - accuracy: 0.7810 - val_loss: 0.7595 - val_accuracy: 0.7442\n",
      "Epoch 33/500\n",
      "181/181 [==============================] - 1s 8ms/step - loss: 0.6045 - accuracy: 0.7940 - val_loss: 0.7449 - val_accuracy: 0.7551\n",
      "Epoch 34/500\n",
      "181/181 [==============================] - 1s 8ms/step - loss: 0.5966 - accuracy: 0.7998 - val_loss: 0.7431 - val_accuracy: 0.7568\n",
      "Epoch 35/500\n",
      "181/181 [==============================] - 1s 8ms/step - loss: 0.5718 - accuracy: 0.8085 - val_loss: 0.6884 - val_accuracy: 0.7709\n",
      "Epoch 36/500\n",
      "181/181 [==============================] - 1s 8ms/step - loss: 0.5819 - accuracy: 0.8071 - val_loss: 0.7434 - val_accuracy: 0.7582\n",
      "Epoch 37/500\n",
      "181/181 [==============================] - 1s 8ms/step - loss: 0.5437 - accuracy: 0.8183 - val_loss: 0.6851 - val_accuracy: 0.7797\n",
      "Epoch 38/500\n",
      "181/181 [==============================] - 1s 8ms/step - loss: 0.5103 - accuracy: 0.8309 - val_loss: 0.6709 - val_accuracy: 0.7835\n",
      "Epoch 39/500\n",
      "181/181 [==============================] - 1s 8ms/step - loss: 0.5032 - accuracy: 0.8313 - val_loss: 0.7035 - val_accuracy: 0.7740\n",
      "Epoch 40/500\n",
      "181/181 [==============================] - 1s 8ms/step - loss: 0.4936 - accuracy: 0.8357 - val_loss: 0.6625 - val_accuracy: 0.7890\n",
      "Epoch 41/500\n",
      "181/181 [==============================] - 1s 8ms/step - loss: 0.4670 - accuracy: 0.8489 - val_loss: 0.6628 - val_accuracy: 0.7901\n",
      "Epoch 42/500\n",
      "181/181 [==============================] - 1s 8ms/step - loss: 0.4880 - accuracy: 0.8382 - val_loss: 0.6821 - val_accuracy: 0.7831\n",
      "Epoch 43/500\n",
      "181/181 [==============================] - 1s 8ms/step - loss: 0.4576 - accuracy: 0.8495 - val_loss: 0.6628 - val_accuracy: 0.7899\n",
      "Epoch 44/500\n",
      "181/181 [==============================] - 1s 8ms/step - loss: 0.4402 - accuracy: 0.8533 - val_loss: 0.6869 - val_accuracy: 0.7856\n",
      "Epoch 45/500\n",
      "181/181 [==============================] - 1s 8ms/step - loss: 0.4282 - accuracy: 0.8588 - val_loss: 0.6501 - val_accuracy: 0.7954\n",
      "Epoch 46/500\n",
      "181/181 [==============================] - 1s 8ms/step - loss: 0.4146 - accuracy: 0.8634 - val_loss: 0.6817 - val_accuracy: 0.7921\n",
      "Epoch 47/500\n",
      "181/181 [==============================] - 1s 8ms/step - loss: 0.4059 - accuracy: 0.8662 - val_loss: 0.6458 - val_accuracy: 0.7980\n",
      "Epoch 48/500\n",
      "181/181 [==============================] - 1s 8ms/step - loss: 0.3865 - accuracy: 0.8717 - val_loss: 0.6690 - val_accuracy: 0.7925\n",
      "Epoch 49/500\n",
      "181/181 [==============================] - 1s 8ms/step - loss: 0.3694 - accuracy: 0.8789 - val_loss: 0.5960 - val_accuracy: 0.8157\n",
      "Epoch 50/500\n",
      "181/181 [==============================] - 1s 8ms/step - loss: 0.3717 - accuracy: 0.8759 - val_loss: 0.5618 - val_accuracy: 0.8278\n",
      "Epoch 51/500\n",
      "181/181 [==============================] - 1s 8ms/step - loss: 0.3278 - accuracy: 0.8916 - val_loss: 0.6041 - val_accuracy: 0.8198\n",
      "Epoch 52/500\n",
      "181/181 [==============================] - 1s 8ms/step - loss: 0.3739 - accuracy: 0.8774 - val_loss: 0.6098 - val_accuracy: 0.8129\n",
      "Epoch 53/500\n",
      "181/181 [==============================] - 1s 8ms/step - loss: 0.3535 - accuracy: 0.8855 - val_loss: 0.6218 - val_accuracy: 0.8107\n",
      "Epoch 54/500\n",
      "181/181 [==============================] - 1s 8ms/step - loss: 0.3424 - accuracy: 0.8893 - val_loss: 0.6205 - val_accuracy: 0.8178\n",
      "Epoch 55/500\n",
      "181/181 [==============================] - 1s 8ms/step - loss: 0.3141 - accuracy: 0.8991 - val_loss: 0.5839 - val_accuracy: 0.8242\n",
      "Epoch 56/500\n",
      "181/181 [==============================] - 1s 8ms/step - loss: 0.3399 - accuracy: 0.8918 - val_loss: 0.5718 - val_accuracy: 0.8281\n",
      "Epoch 57/500\n",
      "181/181 [==============================] - 1s 8ms/step - loss: 0.3023 - accuracy: 0.9020 - val_loss: 0.5740 - val_accuracy: 0.8300\n",
      "Epoch 58/500\n",
      "181/181 [==============================] - 1s 8ms/step - loss: 0.2840 - accuracy: 0.9068 - val_loss: 0.6239 - val_accuracy: 0.8181\n",
      "Epoch 59/500\n",
      "181/181 [==============================] - 1s 8ms/step - loss: 0.2969 - accuracy: 0.9028 - val_loss: 0.5989 - val_accuracy: 0.8216\n",
      "Epoch 60/500\n",
      "181/181 [==============================] - 1s 8ms/step - loss: 0.3009 - accuracy: 0.9045 - val_loss: 0.5679 - val_accuracy: 0.8290\n",
      "Epoch 61/500\n",
      "181/181 [==============================] - 1s 8ms/step - loss: 0.2867 - accuracy: 0.9077 - val_loss: 0.5578 - val_accuracy: 0.8425\n",
      "Epoch 62/500\n",
      "181/181 [==============================] - 1s 8ms/step - loss: 0.2918 - accuracy: 0.9068 - val_loss: 0.5300 - val_accuracy: 0.8389\n",
      "Epoch 63/500\n",
      "181/181 [==============================] - 1s 8ms/step - loss: 0.2775 - accuracy: 0.9109 - val_loss: 0.5610 - val_accuracy: 0.8418\n",
      "Epoch 64/500\n",
      "181/181 [==============================] - 1s 8ms/step - loss: 0.2639 - accuracy: 0.9148 - val_loss: 0.5634 - val_accuracy: 0.8370\n",
      "Epoch 65/500\n",
      "181/181 [==============================] - 1s 8ms/step - loss: 0.2702 - accuracy: 0.9148 - val_loss: 0.5796 - val_accuracy: 0.8333\n",
      "Epoch 66/500\n",
      "181/181 [==============================] - 1s 8ms/step - loss: 0.2450 - accuracy: 0.9223 - val_loss: 0.5514 - val_accuracy: 0.8434\n",
      "Epoch 67/500\n",
      "181/181 [==============================] - 1s 8ms/step - loss: 0.2583 - accuracy: 0.9184 - val_loss: 0.5313 - val_accuracy: 0.8475\n",
      "Epoch 68/500\n",
      "181/181 [==============================] - 1s 8ms/step - loss: 0.2598 - accuracy: 0.9185 - val_loss: 0.5638 - val_accuracy: 0.8429\n",
      "Epoch 69/500\n",
      "181/181 [==============================] - 1s 8ms/step - loss: 0.2529 - accuracy: 0.9190 - val_loss: 0.5834 - val_accuracy: 0.8378\n",
      "Epoch 70/500\n",
      "181/181 [==============================] - 1s 8ms/step - loss: 0.2323 - accuracy: 0.9248 - val_loss: 0.5496 - val_accuracy: 0.8444\n",
      "Epoch 71/500\n",
      "181/181 [==============================] - 1s 8ms/step - loss: 0.2382 - accuracy: 0.9244 - val_loss: 0.5515 - val_accuracy: 0.8439\n",
      "Epoch 72/500\n",
      "181/181 [==============================] - 1s 8ms/step - loss: 0.2227 - accuracy: 0.9298 - val_loss: 0.5532 - val_accuracy: 0.8439\n",
      "Epoch 73/500\n",
      "181/181 [==============================] - 1s 8ms/step - loss: 0.1986 - accuracy: 0.9360 - val_loss: 0.5671 - val_accuracy: 0.8467\n",
      "Epoch 74/500\n",
      "181/181 [==============================] - 1s 8ms/step - loss: 0.2324 - accuracy: 0.9254 - val_loss: 0.5567 - val_accuracy: 0.8427\n",
      "Epoch 75/500\n",
      "181/181 [==============================] - 1s 8ms/step - loss: 0.2036 - accuracy: 0.9342 - val_loss: 0.5790 - val_accuracy: 0.8408\n",
      "Epoch 76/500\n",
      "181/181 [==============================] - 1s 8ms/step - loss: 0.2311 - accuracy: 0.9266 - val_loss: 0.5534 - val_accuracy: 0.8434\n",
      "Epoch 77/500\n",
      "181/181 [==============================] - 1s 8ms/step - loss: 0.2233 - accuracy: 0.9292 - val_loss: 0.5566 - val_accuracy: 0.8409\n",
      "Epoch 77: early stopping\n"
     ]
    },
    {
     "data": {
      "text/plain": [
       "<keras.callbacks.History at 0x1e284276c70>"
      ]
     },
     "execution_count": 7,
     "metadata": {},
     "output_type": "execute_result"
    }
   ],
   "source": [
    "# Compile and Train model\n",
    "model.compile(loss='categorical_crossentropy', optimizer='adam', metrics=['accuracy'])\n",
    "es = EarlyStopping(monitor='val_accuracy', verbose=1, patience=10)\n",
    "model.fit(X_train, y=to_categorical(y_train), validation_split=0.2,epochs=500, batch_size=128, verbose=1, callbacks=[es])"
   ]
  },
  {
   "cell_type": "code",
   "execution_count": 8,
   "metadata": {},
   "outputs": [
    {
     "name": "stdout",
     "output_type": "stream",
     "text": [
      "226/226 [==============================] - 1s 2ms/step\n",
      "\n",
      "The average accuracy of the original model on Test Data is: 0.8418720576017724\n"
     ]
    },
    {
     "data": {
      "text/plain": [
       "<AxesSubplot:>"
      ]
     },
     "execution_count": 8,
     "metadata": {},
     "output_type": "execute_result"
    },
    {
     "data": {
      "image/png": "[encoded data removed]",
      "text/plain": [
       "<Figure size 640x480 with 2 Axes>"
      ]
     },
     "metadata": {},
     "output_type": "display_data"
    }
   ],
   "source": [
    "# Test on never-seen data\n",
    "pred = model.predict(X_test)\n",
    "y_pred = np.argmax(pred,axis=1)\n",
    "\n",
    "print(f'\\nThe average accuracy of the original model on Test Data is: {accuracy_score(y_pred,y_test)}')\n",
    "sns.heatmap(confusion_matrix(y_test, y_pred), annot=True ,fmt='g')"
   ]
  }
 ],
 "metadata": {
  "kernelspec": {
   "display_name": "Python 3.8.13 ('tf_py')",
   "language": "python",
   "name": "python3"
  },
  "language_info": {
   "codemirror_mode": {
    "name": "ipython",
    "version": 3
   },
   "file_extension": ".py",
   "mimetype": "text/x-python",
   "name": "python",
   "nbconvert_exporter": "python",
   "pygments_lexer": "ipython3",
   "version": "3.8.13"
  },
  "orig_nbformat": 4,
  "vscode": {
   "interpreter": {
    "hash": "fd574941279fb6eb59fbc8ec4ea27572da296acbca746f1b5136a7c1b4e2e904"
   }
  }
 },
 "nbformat": 4,
 "nbformat_minor": 2
}
