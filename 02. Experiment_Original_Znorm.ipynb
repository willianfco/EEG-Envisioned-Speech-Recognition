{
 "cells": [
  {
   "cell_type": "code",
   "execution_count": 1,
   "metadata": {},
   "outputs": [
    {
     "name": "stdout",
     "output_type": "stream",
     "text": [
      "Tensorflow Version: 2.10.0\n"
     ]
    }
   ],
   "source": [
    "import numpy as np\n",
    "import pandas as pd\n",
    "import tensorflow as tf\n",
    "from sklearn.model_selection import train_test_split\n",
    "import matplotlib.pyplot as plt\n",
    "import seaborn as sns\n",
    "import random\n",
    "import time\n",
    "import os\n",
    "from sklearn.metrics import accuracy_score,confusion_matrix\n",
    "from tensorflow.keras.models import Sequential, Model\n",
    "from tensorflow.keras.utils import plot_model, to_categorical\n",
    "from tensorflow.keras.layers import Dense, Activation, Conv1D, MaxPooling1D, GlobalAveragePooling1D, Flatten, Dropout, BatchNormalization, Input,UpSampling1D\n",
    "from tensorflow.keras.layers import concatenate, Lambda, Conv2D, MaxPooling2D, GlobalAveragePooling2D,LSTM\n",
    "from tensorflow.keras import backend as K\n",
    "from tensorflow.keras.callbacks import EarlyStopping\n",
    "\n",
    "\n",
    "SEED = 0\n",
    "\n",
    "def set_seeds(seed=SEED):\n",
    "    os.environ['PYTHONHASHSEED'] = str(seed)\n",
    "    random.seed(seed)\n",
    "    tf.random.set_seed(seed)\n",
    "    np.random.seed(seed)\n",
    "\n",
    "def set_global_determinism(seed=SEED):\n",
    "    set_seeds(seed=seed)\n",
    "\n",
    "    os.environ['TF_DETERMINISTIC_OPS'] = '1'\n",
    "    os.environ['TF_CUDNN_DETERMINISTIC'] = '1'\n",
    "    \n",
    "    tf.config.threading.set_inter_op_parallelism_threads(1)\n",
    "    tf.config.threading.set_intra_op_parallelism_threads(1)\n",
    "\n",
    "set_global_determinism(seed=SEED) # Setting seed for a reproducible code.\n",
    "print(f'Tensorflow Version: {tf.__version__}')"
   ]
  },
  {
   "cell_type": "code",
   "execution_count": 2,
   "metadata": {},
   "outputs": [],
   "source": [
    "# Lets build a dictionary to mantain our char labels in memory. \n",
    "LABEL_STR = {0.0: 'A', 1.0: 'C', 2.0: 'F', 3.0: 'H', 4.0: 'J',\n",
    "             5.0: 'M', 6.0: 'P', 7.0: 'S', 8.0: 'T', 9.0: 'Y'}"
   ]
  },
  {
   "cell_type": "code",
   "execution_count": 3,
   "metadata": {},
   "outputs": [
    {
     "name": "stdout",
     "output_type": "stream",
     "text": [
      "(230, 14, 1280)\n",
      "(230,)\n"
     ]
    }
   ],
   "source": [
    "# Loading z-normalized dataset\n",
    "dataset = np.load('char_normalized_dataset.npz')\n",
    "X = dataset['x']\n",
    "Y = dataset['y']\n",
    "print(X.shape)\n",
    "print(Y.shape)"
   ]
  },
  {
   "cell_type": "code",
   "execution_count": 4,
   "metadata": {},
   "outputs": [],
   "source": [
    "# Sampling data into 250ms duration with 64ms sliding increment\n",
    "X_new = np.zeros((36110,32,14))\n",
    "Y_new = np.zeros((36110,))\n",
    "npt = 32\n",
    "stride = 8\n",
    "ctr = 0\n",
    "for i in range(0,230):\n",
    "    y = Y[i]\n",
    "    a= X[i,:,:]\n",
    "    a = a.transpose()\n",
    "    val = 0\n",
    "    while val<=(len(a)-npt):\n",
    "        x = a[val:val+npt,:]\n",
    "        X_new[ctr,:,:] = x\n",
    "        Y_new[ctr] = y\n",
    "        val = val+stride\n",
    "        ctr = ctr+1"
   ]
  },
  {
   "cell_type": "code",
   "execution_count": 5,
   "metadata": {},
   "outputs": [
    {
     "name": "stdout",
     "output_type": "stream",
     "text": [
      "\n",
      "X_train shape:(28888, 32, 14) -> Train Labels Shape: (28888,)\n",
      "X_test shape:(7222, 32, 14) -> Test Labels Shape: (7222,)\n"
     ]
    }
   ],
   "source": [
    "from keras.utils.np_utils import to_categorical\n",
    "\n",
    "X_train, X_test, y_train, y_test = train_test_split(X_new, Y_new, test_size=0.2, random_state=SEED)\n",
    "\n",
    "print(f'''\n",
    "X_train shape:{X_train.shape} -> Train Labels Shape: {y_train.shape}\n",
    "X_test shape:{X_test.shape} -> Test Labels Shape: {y_test.shape}''')"
   ]
  },
  {
   "cell_type": "code",
   "execution_count": 6,
   "metadata": {},
   "outputs": [
    {
     "name": "stdout",
     "output_type": "stream",
     "text": [
      "Model: \"model\"\n",
      "_________________________________________________________________\n",
      " Layer (type)                Output Shape              Param #   \n",
      "=================================================================\n",
      " input_1 (InputLayer)        [(None, 32, 14)]          0         \n",
      "                                                                 \n",
      " batch_normalization (BatchN  (None, 32, 14)           56        \n",
      " ormalization)                                                   \n",
      "                                                                 \n",
      " conv1d (Conv1D)             (None, 32, 128)           18048     \n",
      "                                                                 \n",
      " batch_normalization_1 (Batc  (None, 32, 128)          512       \n",
      " hNormalization)                                                 \n",
      "                                                                 \n",
      " max_pooling1d (MaxPooling1D  (None, 16, 128)          0         \n",
      " )                                                               \n",
      "                                                                 \n",
      " lstm (LSTM)                 (None, 256)               394240    \n",
      "                                                                 \n",
      " batch_normalization_2 (Batc  (None, 256)              1024      \n",
      " hNormalization)                                                 \n",
      "                                                                 \n",
      " dense (Dense)               (None, 128)               32896     \n",
      "                                                                 \n",
      " dropout (Dropout)           (None, 128)               0         \n",
      "                                                                 \n",
      " dense_1 (Dense)             (None, 10)                1290      \n",
      "                                                                 \n",
      "=================================================================\n",
      "Total params: 448,066\n",
      "Trainable params: 447,270\n",
      "Non-trainable params: 796\n",
      "_________________________________________________________________\n"
     ]
    }
   ],
   "source": [
    "# Creating architecture\n",
    "\n",
    "i1 = Input(shape=(32,14))\n",
    "x1 = BatchNormalization()(i1)\n",
    "x1 = Conv1D(128, kernel_size=10, strides=1, activation='relu', padding='same')(x1)\n",
    "x1 = BatchNormalization()(x1)\n",
    "x1 = MaxPooling1D(2)(x1)\n",
    "x1 = LSTM(256,activation='tanh')(x1)\n",
    "x1 = BatchNormalization()(x1)\n",
    "x1 = Dense(128, activation='relu')(x1)\n",
    "x1 = Dropout(0.5)(x1)\n",
    "output = Dense(10, activation='softmax')(x1)\n",
    "\n",
    "model = Model(inputs=i1, outputs=output) # summarize layers\n",
    "\n",
    "model.summary()"
   ]
  },
  {
   "cell_type": "code",
   "execution_count": 7,
   "metadata": {},
   "outputs": [
    {
     "name": "stdout",
     "output_type": "stream",
     "text": [
      "Epoch 1/500\n",
      "181/181 [==============================] - 6s 12ms/step - loss: 2.0722 - accuracy: 0.2967 - val_loss: 1.8144 - val_accuracy: 0.4588\n",
      "Epoch 2/500\n",
      "181/181 [==============================] - 2s 9ms/step - loss: 1.1627 - accuracy: 0.6141 - val_loss: 0.7986 - val_accuracy: 0.7463\n",
      "Epoch 3/500\n",
      "181/181 [==============================] - 2s 9ms/step - loss: 0.5242 - accuracy: 0.8342 - val_loss: 0.4522 - val_accuracy: 0.8467\n",
      "Epoch 4/500\n",
      "181/181 [==============================] - 2s 9ms/step - loss: 0.2489 - accuracy: 0.9200 - val_loss: 0.2447 - val_accuracy: 0.9214\n",
      "Epoch 5/500\n",
      "181/181 [==============================] - 2s 9ms/step - loss: 0.1500 - accuracy: 0.9526 - val_loss: 0.2424 - val_accuracy: 0.9259\n",
      "Epoch 6/500\n",
      "181/181 [==============================] - 2s 9ms/step - loss: 0.0948 - accuracy: 0.9689 - val_loss: 0.2340 - val_accuracy: 0.9320\n",
      "Epoch 7/500\n",
      "181/181 [==============================] - 2s 9ms/step - loss: 0.0738 - accuracy: 0.9765 - val_loss: 0.2049 - val_accuracy: 0.9394\n",
      "Epoch 8/500\n",
      "181/181 [==============================] - 2s 9ms/step - loss: 0.0798 - accuracy: 0.9760 - val_loss: 0.1305 - val_accuracy: 0.9619\n",
      "Epoch 9/500\n",
      "181/181 [==============================] - 2s 9ms/step - loss: 0.0542 - accuracy: 0.9838 - val_loss: 0.1459 - val_accuracy: 0.9571\n",
      "Epoch 10/500\n",
      "181/181 [==============================] - 2s 9ms/step - loss: 0.0515 - accuracy: 0.9836 - val_loss: 0.1508 - val_accuracy: 0.9574\n",
      "Epoch 11/500\n",
      "181/181 [==============================] - 2s 9ms/step - loss: 0.0514 - accuracy: 0.9843 - val_loss: 0.1805 - val_accuracy: 0.9489\n",
      "Epoch 12/500\n",
      "181/181 [==============================] - 2s 9ms/step - loss: 0.0417 - accuracy: 0.9873 - val_loss: 0.1349 - val_accuracy: 0.9631\n",
      "Epoch 13/500\n",
      "181/181 [==============================] - 2s 9ms/step - loss: 0.0544 - accuracy: 0.9826 - val_loss: 0.1332 - val_accuracy: 0.9621\n",
      "Epoch 14/500\n",
      "181/181 [==============================] - 2s 9ms/step - loss: 0.0275 - accuracy: 0.9914 - val_loss: 0.1089 - val_accuracy: 0.9725\n",
      "Epoch 15/500\n",
      "181/181 [==============================] - 2s 9ms/step - loss: 0.0304 - accuracy: 0.9913 - val_loss: 0.1292 - val_accuracy: 0.9663\n",
      "Epoch 16/500\n",
      "181/181 [==============================] - 2s 9ms/step - loss: 0.0406 - accuracy: 0.9876 - val_loss: 0.1384 - val_accuracy: 0.9654\n",
      "Epoch 17/500\n",
      "181/181 [==============================] - 2s 9ms/step - loss: 0.0335 - accuracy: 0.9902 - val_loss: 0.1374 - val_accuracy: 0.9604\n",
      "Epoch 18/500\n",
      "181/181 [==============================] - 2s 10ms/step - loss: 0.0501 - accuracy: 0.9849 - val_loss: 0.1003 - val_accuracy: 0.9718\n",
      "Epoch 19/500\n",
      "181/181 [==============================] - 2s 9ms/step - loss: 0.0331 - accuracy: 0.9893 - val_loss: 0.1353 - val_accuracy: 0.9631\n",
      "Epoch 20/500\n",
      "181/181 [==============================] - 2s 9ms/step - loss: 0.0170 - accuracy: 0.9948 - val_loss: 0.0983 - val_accuracy: 0.9751\n",
      "Epoch 21/500\n",
      "181/181 [==============================] - 2s 9ms/step - loss: 0.0402 - accuracy: 0.9887 - val_loss: 0.1120 - val_accuracy: 0.9664\n",
      "Epoch 22/500\n",
      "181/181 [==============================] - 2s 9ms/step - loss: 0.0278 - accuracy: 0.9927 - val_loss: 0.0947 - val_accuracy: 0.9746\n",
      "Epoch 23/500\n",
      "181/181 [==============================] - 2s 9ms/step - loss: 0.0222 - accuracy: 0.9935 - val_loss: 0.0636 - val_accuracy: 0.9822\n",
      "Epoch 24/500\n",
      "181/181 [==============================] - 2s 9ms/step - loss: 0.0278 - accuracy: 0.9916 - val_loss: 0.1285 - val_accuracy: 0.9664\n",
      "Epoch 25/500\n",
      "181/181 [==============================] - 2s 9ms/step - loss: 0.0273 - accuracy: 0.9920 - val_loss: 0.1178 - val_accuracy: 0.9695\n",
      "Epoch 26/500\n",
      "181/181 [==============================] - 2s 9ms/step - loss: 0.0291 - accuracy: 0.9910 - val_loss: 0.1103 - val_accuracy: 0.9723\n",
      "Epoch 27/500\n",
      "181/181 [==============================] - 2s 9ms/step - loss: 0.0213 - accuracy: 0.9936 - val_loss: 0.1034 - val_accuracy: 0.9737\n",
      "Epoch 28/500\n",
      "181/181 [==============================] - 2s 9ms/step - loss: 0.0178 - accuracy: 0.9947 - val_loss: 0.1246 - val_accuracy: 0.9688\n",
      "Epoch 29/500\n",
      "181/181 [==============================] - 2s 9ms/step - loss: 0.0331 - accuracy: 0.9902 - val_loss: 0.1281 - val_accuracy: 0.9669\n",
      "Epoch 30/500\n",
      "181/181 [==============================] - 2s 9ms/step - loss: 0.0431 - accuracy: 0.9866 - val_loss: 0.1091 - val_accuracy: 0.9730\n",
      "Epoch 31/500\n",
      "181/181 [==============================] - 2s 9ms/step - loss: 0.0241 - accuracy: 0.9925 - val_loss: 0.0900 - val_accuracy: 0.9784\n",
      "Epoch 32/500\n",
      "181/181 [==============================] - 2s 9ms/step - loss: 0.0062 - accuracy: 0.9982 - val_loss: 0.0749 - val_accuracy: 0.9794\n",
      "Epoch 33/500\n",
      "181/181 [==============================] - 2s 9ms/step - loss: 0.0148 - accuracy: 0.9956 - val_loss: 0.1526 - val_accuracy: 0.9642\n",
      "Epoch 33: early stopping\n"
     ]
    },
    {
     "data": {
      "text/plain": [
       "<keras.callbacks.History at 0x14ec01d0d60>"
      ]
     },
     "execution_count": 7,
     "metadata": {},
     "output_type": "execute_result"
    }
   ],
   "source": [
    "# Compile and Train model\n",
    "model.compile(loss='categorical_crossentropy', optimizer='adam', metrics=['accuracy'])\n",
    "es = EarlyStopping(monitor='val_accuracy', verbose=1, patience=10)\n",
    "model.fit(X_train, y= to_categorical(y_train), validation_split=0.2,epochs=500, batch_size=128, verbose=1, callbacks=[es])"
   ]
  },
  {
   "cell_type": "code",
   "execution_count": 8,
   "metadata": {},
   "outputs": [
    {
     "name": "stdout",
     "output_type": "stream",
     "text": [
      "226/226 [==============================] - 1s 2ms/step\n",
      "\n",
      "The average accuracy of the original model on Test Data is: 0.9670451398504569\n"
     ]
    },
    {
     "data": {
      "text/plain": [
       "<AxesSubplot:>"
      ]
     },
     "execution_count": 8,
     "metadata": {},
     "output_type": "execute_result"
    },
    {
     "data": {
      "image/png": "[encoded data removed]",
      "text/plain": [
       "<Figure size 640x480 with 2 Axes>"
      ]
     },
     "metadata": {},
     "output_type": "display_data"
    }
   ],
   "source": [
    "# Test on never-seen data\n",
    "pred = model.predict(X_test)\n",
    "y_pred = np.argmax(pred,axis=1)\n",
    "\n",
    "print(f'\\nThe average accuracy of the original model on Test Data is: {accuracy_score(y_pred,y_test)}')\n",
    "sns.heatmap(confusion_matrix(y_test,y_pred), annot=True ,fmt='g')"
   ]
  }
 ],
 "metadata": {
  "kernelspec": {
   "display_name": "Python 3.8.13 ('tf_py')",
   "language": "python",
   "name": "python3"
  },
  "language_info": {
   "codemirror_mode": {
    "name": "ipython",
    "version": 3
   },
   "file_extension": ".py",
   "mimetype": "text/x-python",
   "name": "python",
   "nbconvert_exporter": "python",
   "pygments_lexer": "ipython3",
   "version": "3.8.13"
  },
  "orig_nbformat": 4,
  "vscode": {
   "interpreter": {
    "hash": "fd574941279fb6eb59fbc8ec4ea27572da296acbca746f1b5136a7c1b4e2e904"
   }
  }
 },
 "nbformat": 4,
 "nbformat_minor": 2
}
