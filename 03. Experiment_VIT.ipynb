{
 "cells": [
  {
   "cell_type": "code",
   "execution_count": 1,
   "metadata": {},
   "outputs": [
    {
     "name": "stdout",
     "output_type": "stream",
     "text": [
      "Tensorflow Version: 2.10.0\n"
     ]
    }
   ],
   "source": [
    "import numpy as np\n",
    "import pandas as pd\n",
    "import tensorflow as tf\n",
    "from sklearn.model_selection import train_test_split\n",
    "from sklearn.preprocessing import StandardScaler\n",
    "import matplotlib.pyplot as plt\n",
    "import seaborn as sns\n",
    "import random\n",
    "import time\n",
    "import os\n",
    "import mne\n",
    "\n",
    "SEED = 0\n",
    "\n",
    "def set_seeds(seed=SEED):\n",
    "    os.environ['PYTHONHASHSEED'] = str(seed)\n",
    "    random.seed(seed)\n",
    "    tf.random.set_seed(seed)\n",
    "    np.random.seed(seed)\n",
    "\n",
    "def set_global_determinism(seed=SEED):\n",
    "    set_seeds(seed=seed)\n",
    "\n",
    "    os.environ['TF_DETERMINISTIC_OPS'] = '1'\n",
    "    os.environ['TF_CUDNN_DETERMINISTIC'] = '1'\n",
    "    \n",
    "    tf.config.threading.set_inter_op_parallelism_threads(1)\n",
    "    tf.config.threading.set_intra_op_parallelism_threads(1)\n",
    "\n",
    "set_global_determinism(seed=SEED) # Setting seed for a reproducible code.\n",
    "print(f'Tensorflow Version: {tf.__version__}')\n",
    "mne.set_log_level('WARNING') # Setting outputs to something less verbose."
   ]
  },
  {
   "cell_type": "code",
   "execution_count": 2,
   "metadata": {},
   "outputs": [],
   "source": [
    "# Extracting raw data from EEG exams\n",
    "folder = 'Char/'\n",
    "\n",
    "X = np.zeros((230,14,1280))\n",
    "Y = np.zeros((230,))\n",
    "ctr = 0\n",
    "\n",
    "for file in os.listdir(folder):\n",
    "    data = mne.io.read_raw_edf(os.path.join(folder,file))\n",
    "    raw_data = data[2:16][0]*1000\n",
    "    raw_data = raw_data[:,0:1280]\n",
    "    \n",
    "    _,cls = file.split('_')\n",
    "    if cls[0]=='A':\n",
    "        Y[ctr] = 0\n",
    "    elif cls[0]=='C':\n",
    "        Y[ctr] = 1 \n",
    "    elif cls[0]=='F':\n",
    "        Y[ctr] = 2\n",
    "    elif cls[0]=='H':\n",
    "        Y[ctr] = 3\n",
    "    elif cls[0]=='J':\n",
    "        Y[ctr] = 4\n",
    "    elif cls[0]=='M':\n",
    "        Y[ctr] = 5\n",
    "    elif cls[0]=='P':\n",
    "        Y[ctr] = 6\n",
    "    elif cls[0]=='S':\n",
    "        Y[ctr] = 7\n",
    "    elif cls[0]=='T':\n",
    "        Y[ctr] = 8\n",
    "    elif cls[0]=='Y':\n",
    "        Y[ctr] = 9\n",
    "    X[ctr,:,:] = raw_data\n",
    "    ctr = ctr+1"
   ]
  },
  {
   "cell_type": "code",
   "execution_count": 3,
   "metadata": {},
   "outputs": [],
   "source": [
    "# Lets build a dictionary to mantain our char labels in memory. \n",
    "LABEL_STR = {0.0: 'A', 1.0: 'C', 2.0: 'F', 3.0: 'H', 4.0: 'J',\n",
    "             5.0: 'M', 6.0: 'P', 7.0: 'S', 8.0: 'T', 9.0: 'Y'}"
   ]
  },
  {
   "cell_type": "code",
   "execution_count": 4,
   "metadata": {},
   "outputs": [],
   "source": [
    "# Sampling data into 250ms duration\n",
    "X_new = np.zeros((36110,32,14))\n",
    "Y_new = np.zeros((36110,))\n",
    "npt = 32\n",
    "stride = 8\n",
    "ctr = 0\n",
    "for i in range(0,230):\n",
    "    y = Y[i]\n",
    "    a= X[i,:,:]\n",
    "    a = a.transpose()\n",
    "    val = 0\n",
    "    while val<=(len(a)-npt):\n",
    "        x = a[val:val+npt,:]\n",
    "        X_new[ctr,:,:] = x\n",
    "        Y_new[ctr] = y\n",
    "        val = val+stride\n",
    "        ctr = ctr+1"
   ]
  },
  {
   "cell_type": "code",
   "execution_count": 6,
   "metadata": {},
   "outputs": [
    {
     "name": "stdout",
     "output_type": "stream",
     "text": [
      "\n",
      "X_train shape:(28888, 32, 14) -> Train Labels: 28888\n",
      "X_test shape:(7222, 32, 14) -> Test Labels: 7222\n"
     ]
    }
   ],
   "source": [
    "# Creating Datasets\n",
    "X_train, X_test, y_train, y_test = train_test_split(X_new, Y_new, test_size=0.2, random_state=SEED)\n",
    "\n",
    "print(f'''\n",
    "X_train shape:{X_train.shape} -> Train Labels: {y_train.shape[0]}\n",
    "X_test shape:{X_test.shape} -> Test Labels: {y_test.shape[0]}''')"
   ]
  },
  {
   "cell_type": "code",
   "execution_count": null,
   "metadata": {},
   "outputs": [],
   "source": []
  }
 ],
 "metadata": {
  "kernelspec": {
   "display_name": "Python 3.8.13 ('tf_py')",
   "language": "python",
   "name": "python3"
  },
  "language_info": {
   "codemirror_mode": {
    "name": "ipython",
    "version": 3
   },
   "file_extension": ".py",
   "mimetype": "text/x-python",
   "name": "python",
   "nbconvert_exporter": "python",
   "pygments_lexer": "ipython3",
   "version": "3.8.13"
  },
  "orig_nbformat": 4,
  "vscode": {
   "interpreter": {
    "hash": "fd574941279fb6eb59fbc8ec4ea27572da296acbca746f1b5136a7c1b4e2e904"
   }
  }
 },
 "nbformat": 4,
 "nbformat_minor": 2
}
