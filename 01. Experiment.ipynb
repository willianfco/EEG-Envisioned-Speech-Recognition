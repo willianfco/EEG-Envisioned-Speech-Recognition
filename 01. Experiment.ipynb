{
 "cells": [
  {
   "cell_type": "code",
   "execution_count": 1,
   "metadata": {},
   "outputs": [
    {
     "name": "stderr",
     "output_type": "stream",
     "text": [
      "2022-11-03 20:59:17.546841: I tensorflow/core/platform/cpu_feature_guard.cc:193] This TensorFlow binary is optimized with oneAPI Deep Neural Network Library (oneDNN) to use the following CPU instructions in performance-critical operations:  AVX2 FMA\n",
      "To enable them in other operations, rebuild TensorFlow with the appropriate compiler flags.\n",
      "2022-11-03 20:59:17.754169: E tensorflow/stream_executor/cuda/cuda_blas.cc:2981] Unable to register cuBLAS factory: Attempting to register factory for plugin cuBLAS when one has already been registered\n",
      "2022-11-03 20:59:18.540162: W tensorflow/stream_executor/platform/default/dso_loader.cc:64] Could not load dynamic library 'libnvinfer.so.7'; dlerror: libnvinfer.so.7: cannot open shared object file: No such file or directory\n",
      "2022-11-03 20:59:18.540233: W tensorflow/stream_executor/platform/default/dso_loader.cc:64] Could not load dynamic library 'libnvinfer_plugin.so.7'; dlerror: libnvinfer_plugin.so.7: cannot open shared object file: No such file or directory\n",
      "2022-11-03 20:59:18.540242: W tensorflow/compiler/tf2tensorrt/utils/py_utils.cc:38] TF-TRT Warning: Cannot dlopen some TensorRT libraries. If you would like to use Nvidia GPU with TensorRT, please make sure the missing libraries mentioned above are installed properly.\n"
     ]
    },
    {
     "name": "stdout",
     "output_type": "stream",
     "text": [
      "Tensorflow Version: 2.10.0\n"
     ]
    }
   ],
   "source": [
    "import numpy as np\n",
    "import pandas as pd\n",
    "import tensorflow as tf\n",
    "import tensorflow_hub as hub\n",
    "import matplotlib.pyplot as plt\n",
    "import seaborn as sns\n",
    "import random\n",
    "import time\n",
    "\n",
    "SEED = 0\n",
    "\n",
    "def set_seeds(seed=SEED):\n",
    "    os.environ['PYTHONHASHSEED'] = str(seed)\n",
    "    random.seed(seed)\n",
    "    tf.random.set_seed(seed)\n",
    "    np.random.seed(seed)\n",
    "\n",
    "def set_global_determinism(seed=SEED):\n",
    "    set_seeds(seed=seed)\n",
    "\n",
    "    os.environ['TF_DETERMINISTIC_OPS'] = '1'\n",
    "    os.environ['TF_CUDNN_DETERMINISTIC'] = '1'\n",
    "    \n",
    "    tf.config.threading.set_inter_op_parallelism_threads(1)\n",
    "    tf.config.threading.set_intra_op_parallelism_threads(1)\n",
    "\n",
    "set_global_determinism(seed=SEED) # Setting seed for a reproducible code.\n",
    "print(f'Tensorflow Version: {tf.__version__}')"
   ]
  },
  {
   "cell_type": "code",
   "execution_count": 2,
   "metadata": {},
   "outputs": [
    {
     "name": "stdout",
     "output_type": "stream",
     "text": [
      "(230, 14, 1536)\n",
      "(230,)\n"
     ]
    }
   ],
   "source": [
    "# Importing dataset\n",
    "dataset = np.load('char_normalized_dataset.npz')\n",
    "X = dataset['x']\n",
    "Y = dataset['y']\n",
    "del(dataset)\n",
    "print(X.shape)\n",
    "print(Y.shape)"
   ]
  },
  {
   "cell_type": "code",
   "execution_count": 3,
   "metadata": {},
   "outputs": [
    {
     "name": "stdout",
     "output_type": "stream",
     "text": [
      "\n",
      "X_train shape:(184, 14, 1536) -> Train Labels: 184\n",
      "X_test shape:(46, 14, 1536) -> Test Labels: 46\n"
     ]
    }
   ],
   "source": [
    "# Since this work is trying to create a model that is robust to every user we will be\n",
    "# Splitting the dataset with Scikit-Learn Train-Test split.\n",
    "# Further work can test if diferent splitting techniques enhance performance of the model\n",
    "# e.g split acording to subjects/labels\n",
    "\n",
    "from sklearn.model_selection import train_test_split\n",
    "X_train, X_test, y_train, y_test = train_test_split(X, Y, test_size = 0.2, random_state=SEED)\n",
    "\n",
    "print(f'''\n",
    "X_train shape:{X_train.shape} -> Train Labels: {y_train.shape[0]}\n",
    "X_test shape:{X_test.shape} -> Test Labels: {y_test.shape[0]}''')"
   ]
  },
  {
   "cell_type": "code",
   "execution_count": 4,
   "metadata": {},
   "outputs": [
    {
     "data": {
      "text/plain": [
       "'Train Label distribution'"
      ]
     },
     "metadata": {},
     "output_type": "display_data"
    },
    {
     "data": {
      "text/plain": [
       "label\n",
       "0.0    19\n",
       "1.0    17\n",
       "2.0    19\n",
       "3.0    19\n",
       "4.0    20\n",
       "5.0    18\n",
       "6.0    18\n",
       "7.0    19\n",
       "8.0    17\n",
       "9.0    18\n",
       "Name: label, dtype: int64"
      ]
     },
     "metadata": {},
     "output_type": "display_data"
    },
    {
     "data": {
      "text/plain": [
       "'Test Label distribution'"
      ]
     },
     "metadata": {},
     "output_type": "display_data"
    },
    {
     "data": {
      "text/plain": [
       "label\n",
       "0.0    4\n",
       "1.0    6\n",
       "2.0    4\n",
       "3.0    4\n",
       "4.0    3\n",
       "5.0    5\n",
       "6.0    5\n",
       "7.0    4\n",
       "8.0    6\n",
       "9.0    5\n",
       "Name: label, dtype: int64"
      ]
     },
     "metadata": {},
     "output_type": "display_data"
    }
   ],
   "source": [
    "# Verifing label distribution of train and test samples\n",
    "display('Train Label distribution', pd.DataFrame(y_train, columns=['label']).groupby(['label'])['label'].count())\n",
    "display('Test Label distribution', pd.DataFrame(y_test, columns=['label']).groupby(['label'])['label'].count())"
   ]
  },
  {
   "cell_type": "code",
   "execution_count": 5,
   "metadata": {},
   "outputs": [],
   "source": [
    "# Creating our Transformer from Scratch\n",
    "## Based on https://github.com/Kyubyong/transformer\n",
    "\n",
    "AUTOTUNE = tf.data.AUTOTUNE\n",
    "batch_size = 32\n",
    "\n",
    "from _modules import get_token_embeddings, ff, positional_encoding, multihead_attention, label_smoothing, noam_scheme\n",
    "from _utils import convert_idx_to_token_tensor\n",
    "from tqdm import tqdm\n",
    "import logging\n",
    "\n",
    "logging.basicConfig(level=logging.INFO)"
   ]
  }
 ],
 "metadata": {
  "kernelspec": {
   "display_name": "Python 3.8.10 ('eeg_env')",
   "language": "python",
   "name": "python3"
  },
  "language_info": {
   "codemirror_mode": {
    "name": "ipython",
    "version": 3
   },
   "file_extension": ".py",
   "mimetype": "text/x-python",
   "name": "python",
   "nbconvert_exporter": "python",
   "pygments_lexer": "ipython3",
   "version": "3.8.10"
  },
  "orig_nbformat": 4,
  "vscode": {
   "interpreter": {
    "hash": "fb4e731615bda8a9d7953e7f5c1fe1729107a8e9431d0b75e1ee20e0fee42b65"
   }
  }
 },
 "nbformat": 4,
 "nbformat_minor": 2
}
