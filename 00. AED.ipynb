{
 "cells": [
  {
   "cell_type": "code",
   "execution_count": null,
   "metadata": {},
   "outputs": [],
   "source": [
    "# Study: EDA - Envisioned Speech Recognition\n",
    "# Author: Willian Oliveira\n",
    "# Start: 30/09/2022\n",
    "# Motivation: Discover how to work with EEG exams.\n",
    "# Study Status: On going"
   ]
  },
  {
   "cell_type": "code",
   "execution_count": null,
   "metadata": {},
   "outputs": [],
   "source": [
    "import numpy as np\n",
    "import pandas as pd\n",
    "import matplotlib.pyplot as plt\n",
    "import mne\n",
    "import seaborn as sns\n",
    "import random\n",
    "\n",
    "mne.set_log_level('WARNING') # Setting outputs to something less verbose."
   ]
  },
  {
   "cell_type": "code",
   "execution_count": null,
   "metadata": {},
   "outputs": [],
   "source": [
    "# This is too verbose, but we will keep it as a record of my thinking process to understand this dataset.\n",
    "def explore_edf_data(path):\n",
    "    \"\"\" Extract raw data from EDF files, print some info about this measurement.\"\"\"\n",
    "    import mne\n",
    "    raw = mne.io.read_raw_edf(path)\n",
    "    print(f'{path} metadata:') \n",
    "    display(raw.info) # Explore metadata included in the file\n",
    "    channels = raw.ch_names # Display all channels available in this EEG.\n",
    "    print(f'Channel Names:\\n')\n",
    "    print(channels,'\\n')\n",
    "    print(5*'-', '\\n')\n",
    "    print('Transforming transposed edf data to np array...\\n')\n",
    "    data = raw.get_data().T # Transform this transposed raw data in array information\n",
    "    print(f'Data size: {data.size}')\n",
    "    print(f'Data shape: {data.shape} -> {data.shape[0]} measurements of {data.shape[1]} channels' )\n",
    "    print('Each nested array is composed of 39 float numbers, indicating one measure of each channel at the same time.\\n')\n",
    "    print('Channels Values at the first measurement period:')\n",
    "    print(data[0], '\\n')\n",
    "    print('Channels Values at the last measurement period:')\n",
    "    print(data[-1], '\\n')\n",
    "    print(5*'-', '\\n')\n",
    "    print('Converting np array to dataframe for further analysis...\\n')\n",
    "    df_data = pd.DataFrame(data, columns=channels)\n",
    "    display(df_data.describe().style)\n",
    "    print('\\n')\n",
    "    print('We see that the sensor channels for this task are from AF3 to AF4 [2:16].') \n",
    "    plt.rcParams[\"figure.figsize\"] = (20,8)\n",
    "    print(f'Seconds of analysis: {round((df_data.TIME_STAMP_s.max() - df_data.TIME_STAMP_s.min())*(10**6))}')\n",
    "    for c in channels[2:16]:\n",
    "        plt.plot(df_data[c], label = str(c))\n",
    "        plt.title(f'Sensor channels response for subject thinking on this EEG')\n"
   ]
  },
  {
   "cell_type": "code",
   "execution_count": null,
   "metadata": {},
   "outputs": [],
   "source": [
    "explore_edf_data('Char/aashay_A.edf')"
   ]
  },
  {
   "cell_type": "code",
   "execution_count": null,
   "metadata": {},
   "outputs": [],
   "source": [
    "# Creating a np.array with all EEG data and its label for Char Envisioned Recognition task.\n",
    "folder = 'Char/'\n",
    "X = np.zeros((230,14,1536))\n",
    "Y = np.zeros((230,))\n",
    "channels = ['AF3', 'F7', 'F3', 'FC5', 'T7', 'P7', 'O1', 'O2', 'P8', 'T8', 'FC6', 'F4', 'F8', 'AF4'] \n",
    "ctr = 0\n",
    "for file in os.listdir(folder):\n",
    "    data = mne.io.read_raw_edf(os.path.join(folder,file))\n",
    "    raw_data = data[2:16][0]*1000\n",
    "    raw_data = raw_data[:,0:1536]\n",
    "    a = raw_data.shape\n",
    "    \n",
    "    _,cls = file.split('_')\n",
    "    if cls[0]=='A':\n",
    "        Y[ctr] = 0\n",
    "    elif cls[0]=='C':\n",
    "        Y[ctr] = 1 \n",
    "    elif cls[0]=='F':\n",
    "        Y[ctr] = 2\n",
    "    elif cls[0]=='H':\n",
    "        Y[ctr] = 3\n",
    "    elif cls[0]=='J':\n",
    "        Y[ctr] = 4\n",
    "    elif cls[0]=='M':\n",
    "        Y[ctr] = 5\n",
    "    elif cls[0]=='P':\n",
    "        Y[ctr] = 6\n",
    "    elif cls[0]=='S':\n",
    "        Y[ctr] = 7\n",
    "    elif cls[0]=='T':\n",
    "        Y[ctr] = 8\n",
    "    elif cls[0]=='Y':\n",
    "        Y[ctr] = 9\n",
    "    X[ctr,:,:] = raw_data\n",
    "    ctr += 1"
   ]
  },
  {
   "cell_type": "code",
   "execution_count": null,
   "metadata": {},
   "outputs": [],
   "source": [
    "# Lets build a dictionary to mantain our char labels in memory. \n",
    "label_str = {0.0: 'A', 1.0: 'C', 2.0: 'F', 3.0: 'H', 4.0: 'J',\n",
    "             5.0: 'M', 6.0: 'P', 7.0: 'S', 8.0: 'T', 9.0: 'Y'}"
   ]
  },
  {
   "cell_type": "code",
   "execution_count": null,
   "metadata": {},
   "outputs": [],
   "source": [
    "# Lets explore EEG readings in our dataset.\n",
    "def explore_dataset(Doc, Measurements = X, Labels = Y, Channels = channels, labels_str = label_str):\n",
    "    df = pd.DataFrame(X[Doc].T, columns=Channels)\n",
    "    print(f'Exploring exam number {Doc}')\n",
    "    print(f'Label: {labels_str[Labels[Doc]]}')\n",
    "    print('Channels first mesurements:')\n",
    "    display(df.head().style)\n",
    "    plt.rcParams[\"figure.figsize\"] = (20,8)\n",
    "    for c in channels:\n",
    "        plt.plot(df[c], label = str(c))\n",
    "        plt.title(f'Sensor channels response for subject thinking on char {labels_str[Labels[Doc]]} for ~12 seconds.')"
   ]
  },
  {
   "cell_type": "code",
   "execution_count": null,
   "metadata": {},
   "outputs": [],
   "source": [
    "explore_dataset(Doc= random.randint(0, 230), Measurements = X, Labels = Y, Channels = channels)"
   ]
  },
  {
   "cell_type": "code",
   "execution_count": null,
   "metadata": {},
   "outputs": [],
   "source": [
    "print(X.shape)\n",
    "print(Y.shape)"
   ]
  },
  {
   "cell_type": "code",
   "execution_count": null,
   "metadata": {},
   "outputs": [],
   "source": [
    "# Save as npz file to use it on the other notebooks.\n",
    "np.savez('char_dataset', x=X, y=Y)"
   ]
  },
  {
   "cell_type": "code",
   "execution_count": null,
   "metadata": {},
   "outputs": [],
   "source": [
    "# Load npz file to see if its in the right configuration.\n",
    "dataset = np.load('char_dataset.npz')\n",
    "Measurements = dataset['x']\n",
    "Labels = dataset['y']\n",
    "print(Measurements.shape)\n",
    "print(Labels.shape)"
   ]
  },
  {
   "cell_type": "code",
   "execution_count": null,
   "metadata": {},
   "outputs": [],
   "source": [
    "# Test if we can access data the same way.\n",
    "explore_dataset(Doc= random.randint(0, 230), Measurements = Measurements, Labels = Labels, Channels = channels)"
   ]
  },
  {
   "cell_type": "code",
   "execution_count": null,
   "metadata": {},
   "outputs": [],
   "source": [
    "# Extracting a single sensor for tests on building its spectogram\n",
    "eeg90_af3 = Measurements[47][0]\n",
    "plt.plot(eeg90_af3, label = 'AF3')\n",
    "plt.title('Channel AF3 response for subject thinking on char A for ~12 seconds.')"
   ]
  },
  {
   "cell_type": "code",
   "execution_count": null,
   "metadata": {},
   "outputs": [],
   "source": [
    "# Transform the array to a 2D Spectogram\n",
    "from scipy import signal\n",
    "fs = 128\n",
    "\n",
    "f, t, Sxx = signal.spectrogram(eeg90_af3, fs)\n",
    "plt.figure(figsize=(8,10))\n",
    "plt.pcolormesh(t, f, Sxx, shading='gouraud')\n",
    "plt.ylabel('Frequency [Hz]')\n",
    "plt.xlabel('Time [sec]')\n",
    "plt.show()"
   ]
  },
  {
   "cell_type": "code",
   "execution_count": null,
   "metadata": {},
   "outputs": [],
   "source": [
    "# Extract all sensors from a same EEG:\n",
    "sensors = {0: 'AF3', 1: 'F7',\t2: 'F3', 3:\t'FC5', 4: 'T7', 5: 'P7', 6:\t'O1',\n",
    "        7: 'O2', 8: 'P8', 9: 'T8', 10: 'FC6', 11: 'F4', 12: 'F8', 13: 'AF4'}\n",
    "\n",
    "def eeg_tensor_spectrogram(edf_file, fs): ## On going work -> We will loop the subplots and export this images to the new dataset.\n",
    "    eeg = []\n",
    "    for c in range(0,14):\n",
    "        sensor = Measurements[edf_file][c]\n",
    "        f, t, Sxx = signal.spectrogram(sensor, fs)\n",
    "        eeg.append([t, f, Sxx])\n",
    "    \n",
    "    f=plt.figure(figsize= (25, 20))\n",
    "    \n",
    "    s1 = f.add_subplot(4, 4, 1)\n",
    "    s1.set_title(f'Sensor - AF3')\n",
    "    plt.pcolormesh(eeg[0][0], eeg[0][1], eeg[0][2], shading='gouraud')\n",
    "    plt.axis('off')\n",
    "\n",
    "    s2 = f.add_subplot(4, 4, 2)\n",
    "    s2.set_title(f'Sensor - F7')\n",
    "    plt.pcolormesh(eeg[1][0], eeg[1][1], eeg[1][2], shading='gouraud')\n",
    "    plt.axis('off')\n",
    "\n",
    "    s3 = f.add_subplot(4, 4, 3)\n",
    "    s3.set_title(f'Sensor - F3')\n",
    "    plt.pcolormesh(eeg[2][0], eeg[2][1], eeg[2][2], shading='gouraud')\n",
    "    plt.axis('off')\n",
    "\n",
    "    s4 = f.add_subplot(4, 4, 4)\n",
    "    s4.set_title(f'Sensor - FC5')\n",
    "    plt.pcolormesh(eeg[3][0], eeg[3][1], eeg[3][2], shading='gouraud')\n",
    "    plt.axis('off')\n",
    "\n",
    "    s5 = f.add_subplot(4, 4, 5)\n",
    "    s5.set_title(f'Sensor - T7')\n",
    "    plt.pcolormesh(eeg[4][0], eeg[4][1], eeg[4][2], shading='gouraud')\n",
    "    plt.axis('off')\n",
    "\n",
    "    s5 = f.add_subplot(4, 4, 6)\n",
    "    s5.set_title(f'Sensor - P7')\n",
    "    plt.pcolormesh(eeg[5][0], eeg[5][1], eeg[5][2], shading='gouraud')\n",
    "    plt.axis('off')\n",
    "\n",
    "    s6 = f.add_subplot(4, 4, 7)\n",
    "    s6.set_title(f'Sensor - O1')\n",
    "    plt.pcolormesh(eeg[6][0], eeg[6][1], eeg[6][2], shading='gouraud')\n",
    "    plt.axis('off')\n",
    "\n",
    "    s7 = f.add_subplot(4, 4, 8)\n",
    "    s7.set_title(f'Sensor - 02')\n",
    "    plt.pcolormesh(eeg[7][0], eeg[7][1], eeg[7][2], shading='gouraud')\n",
    "    plt.axis('off')\n",
    "\n",
    "    \n",
    "    s8 = f.add_subplot(4, 4, 9)\n",
    "    s8.set_title(f'Sensor - P8')\n",
    "    plt.pcolormesh(eeg[8][0], eeg[8][1], eeg[8][2], shading='gouraud')\n",
    "    plt.axis('off')\n",
    "\n",
    "    s9 = f.add_subplot(4, 4, 10)\n",
    "    s9.set_title(f'Sensor - T8')\n",
    "    plt.pcolormesh(eeg[9][0], eeg[9][1], eeg[9][2], shading='gouraud')\n",
    "    plt.axis('off')\n",
    "\n",
    "    s10 = f.add_subplot(4, 4, 11)\n",
    "    s10.set_title(f'Sensor - FC6')\n",
    "    plt.pcolormesh(eeg[10][0], eeg[10][1], eeg[10][2], shading='gouraud')\n",
    "    plt.axis('off')\n",
    "\n",
    "    s11 = f.add_subplot(4, 4, 12)\n",
    "    s11.set_title(f'Sensor - F4')\n",
    "    plt.pcolormesh(eeg[11][0], eeg[11][1], eeg[11][2], shading='gouraud')\n",
    "    plt.axis('off')\n",
    "\n",
    "    s12 = f.add_subplot(4, 4, 13)\n",
    "    s12.set_title(f'Sensor - F8')\n",
    "    plt.pcolormesh(eeg[12][0], eeg[12][1], eeg[12][2], shading='gouraud')\n",
    "    plt.axis('off')\n",
    "\n",
    "    s13 = f.add_subplot(4, 4, 14)\n",
    "    s13.set_title(f'Sensor - AF4')\n",
    "    plt.pcolormesh(eeg[13][0], eeg[13][1], eeg[13][2], shading='gouraud')\n",
    "    plt.axis('off')\n",
    "    \n",
    "    return np.array(eeg, dtype=object)\n",
    "\n",
    "eeg0 = eeg_tensor_spectrogram(229, 128)\n",
    "eeg0.shape # -> 14 sensor informations of Sample Frequencies, Segment Times and the Spectrogram of X."
   ]
  },
  {
   "cell_type": "code",
   "execution_count": null,
   "metadata": {},
   "outputs": [],
   "source": []
  }
 ],
 "metadata": {
  "kernelspec": {
   "display_name": "Python 3.8.13 ('eeg_env')",
   "language": "python",
   "name": "python3"
  },
  "language_info": {
   "codemirror_mode": {
    "name": "ipython",
    "version": 3
   },
   "file_extension": ".py",
   "mimetype": "text/x-python",
   "name": "python",
   "nbconvert_exporter": "python",
   "pygments_lexer": "ipython3",
   "version": "3.8.13"
  },
  "orig_nbformat": 4,
  "vscode": {
   "interpreter": {
    "hash": "33b3fb6a8b3bcb2a18d40b06248d3110a5c86a4510e3e332409bd6b434005669"
   }
  }
 },
 "nbformat": 4,
 "nbformat_minor": 2
}
